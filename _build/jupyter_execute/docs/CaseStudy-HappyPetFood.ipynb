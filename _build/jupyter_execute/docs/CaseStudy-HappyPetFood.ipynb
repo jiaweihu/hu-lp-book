{
 "cells": [
  {
   "cell_type": "markdown",
   "metadata": {},
   "source": [
    "# Python Solution: Happy Pet Food\n",
    "\n",
    "This case study is of an organization called Happy Pet Food which is seeking to maximize profit on the products that they produce and sell. \n",
    "\n",
    "Happy Pet Food produces two types of dog food, Meaties and Yummies. The ingredients in each of these products include cereal and meat. Each Meaty requires 20 pounds of cereal and 20 pounds of meat. Each Yummy requires 30 pounds of cereal and 10 pounds of meat. Happy Pet Food can procure only 400,000 pounds of cereal in a month and 200,000 pounds of meat in a month. In addition, Happy can only make a maximum of 8,000 batches of Meaties each month due to these sales constraints. The profit on each batch of Meaties is `$`65 and the profit they make on each batch of Yummies is `$`45. \n",
    "\n",
    "|          | Meaties X1 | Yummies X2  | Resource constrains | \n",
    "| --------:| ---------- | ----------- | ------------------- | \n",
    "| Cereal   | 20         | 30          | 400,000             |\n",
    "| Meat     | 20         | 10          | 200,000             | \n",
    "| Sales    | 1          |             | 8,000               |\n",
    "| Profits  | 65         | 45          |                     |\n",
    "\n",
    "The **decision variables** are the number of batches of Meaties as x1, with one batch of Meaties use 20 pounds of cereal and 20 pounds of meat. The number of batches of Yummies is x2. This has 30 pounds of cereal and 10 pounds of meat. \n",
    "\n",
    "The objective of this exercise is to maximize our profit. The profits are $65 on Meaties and $45 on Yummies. The **objective function** is:\n",
    "\n",
    "$Z = 65x1 + 45x2$\n",
    "\n",
    "Let's turn our attention to the constraints, which can vbe expressed as:\n",
    "\n",
    "$20x1 + 30x2 \\leqslant 400,000$\n",
    "\n",
    "$20x1 + 10x2 \\leqslant 200,000$\n",
    "\n",
    "$x1 \\leqslant 8,000$\n",
    "\n",
    "$x1 \\geqslant 0$\n",
    "\n",
    "$x2 \\geqslant 0$\n",
    "\n",
    "\n",
    "## Code blocks and outputs\n",
    "\n",
    "Jupyter Book will also embed your code blocks and output in your book.\n",
    "For example, here's some sample Matplotlib code:"
   ]
  },
  {
   "cell_type": "code",
   "execution_count": 1,
   "metadata": {},
   "outputs": [
    {
     "ename": "ModuleNotFoundError",
     "evalue": "No module named 'matplotlib'",
     "output_type": "error",
     "traceback": [
      "\u001b[1;31m---------------------------------------------------------------------------\u001b[0m",
      "\u001b[1;31mModuleNotFoundError\u001b[0m                       Traceback (most recent call last)",
      "Cell \u001b[1;32mIn[1], line 1\u001b[0m\n\u001b[1;32m----> 1\u001b[0m \u001b[38;5;28;01mfrom\u001b[39;00m \u001b[38;5;21;01mmatplotlib\u001b[39;00m \u001b[38;5;28;01mimport\u001b[39;00m rcParams, cycler\n\u001b[0;32m      2\u001b[0m \u001b[38;5;28;01mimport\u001b[39;00m \u001b[38;5;21;01mmatplotlib\u001b[39;00m\u001b[38;5;21;01m.\u001b[39;00m\u001b[38;5;21;01mpyplot\u001b[39;00m \u001b[38;5;28;01mas\u001b[39;00m \u001b[38;5;21;01mplt\u001b[39;00m\n\u001b[0;32m      3\u001b[0m \u001b[38;5;28;01mimport\u001b[39;00m \u001b[38;5;21;01mnumpy\u001b[39;00m \u001b[38;5;28;01mas\u001b[39;00m \u001b[38;5;21;01mnp\u001b[39;00m\n",
      "\u001b[1;31mModuleNotFoundError\u001b[0m: No module named 'matplotlib'"
     ]
    }
   ],
   "source": [
    "from matplotlib import rcParams, cycler\n",
    "import matplotlib.pyplot as plt\n",
    "import numpy as np\n",
    "plt.ion()"
   ]
  },
  {
   "cell_type": "code",
   "execution_count": null,
   "metadata": {},
   "outputs": [],
   "source": [
    "# Fixing random state for reproducibility\n",
    "np.random.seed(19680801)\n",
    "\n",
    "N = 10\n",
    "data = [np.logspace(0, 1, 100) + np.random.randn(100) + ii for ii in range(N)]\n",
    "data = np.array(data).T\n",
    "cmap = plt.cm.coolwarm\n",
    "rcParams['axes.prop_cycle'] = cycler(color=cmap(np.linspace(0, 1, N)))\n",
    "\n",
    "\n",
    "from matplotlib.lines import Line2D\n",
    "custom_lines = [Line2D([0], [0], color=cmap(0.), lw=4),\n",
    "                Line2D([0], [0], color=cmap(.5), lw=4),\n",
    "                Line2D([0], [0], color=cmap(1.), lw=4)]\n",
    "\n",
    "fig, ax = plt.subplots(figsize=(10, 5))\n",
    "lines = ax.plot(data)\n",
    "ax.legend(custom_lines, ['Cold', 'Medium', 'Hot']);"
   ]
  },
  {
   "cell_type": "markdown",
   "metadata": {},
   "source": [
    "There is a lot more that you can do with outputs (such as including interactive outputs)\n",
    "with your book. For more information about this, see [the Jupyter Book documentation](https://jupyterbook.org)"
   ]
  }
 ],
 "metadata": {
  "kernelspec": {
   "display_name": "Python 3",
   "language": "python",
   "name": "python3"
  },
  "language_info": {
   "codemirror_mode": {
    "name": "ipython",
    "version": 3
   },
   "file_extension": ".py",
   "mimetype": "text/x-python",
   "name": "python",
   "nbconvert_exporter": "python",
   "pygments_lexer": "ipython3",
   "version": "3.10.11"
  },
  "widgets": {
   "application/vnd.jupyter.widget-state+json": {
    "state": {},
    "version_major": 2,
    "version_minor": 0
   }
  }
 },
 "nbformat": 4,
 "nbformat_minor": 4
}