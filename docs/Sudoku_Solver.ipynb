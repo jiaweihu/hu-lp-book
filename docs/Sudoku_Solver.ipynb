{
 "cells": [
  {
   "cell_type": "markdown",
   "id": "22660e3d",
   "metadata": {},
   "source": [
    "# Sudoku Solver - Integer Linear Programming approach using PuLP"
   ]
  },
  {
   "cell_type": "markdown",
   "id": "64aa898c",
   "metadata": {},
   "source": [
    "This is about a particular application of Integer Linear Programming, ILP, on solving sudoku.\n",
    "A sudoku problem is a problem where there is an incomplete 9x9 table of numbers which must be filled according to the rules:\n",
    "* Within any of the 9 individual 3x3 boxes, each of the numbers 1 to 9 must be found\n",
    "* Within any column of the 9x9 grid, each of the numbers 1 to 9 must be found\n",
    "* Within any row of the 9x9 grid, each of the numbers 1 to 9 must be found\n",
    "\n",
    "**Decision Variables**\\\n",
    "Sudoku grid consists of 81 cells (9x9 grid). Each cell can take a value between 1 and 9. If we create a set of boolean decision variables for each of these values, then we get a total of 729 variables (9x9x9). \n",
    "\n",
    "**Objective Function**\\\n",
    "Normally an objective function is to either maximize or minimize. However, Sudoku is more of a feasibility problem, i.e. if the constraints are satisfied then the sudoku is solved. A dummy objective function is set here as 0.\n",
    "\n",
    "**Constraints**\\\n",
    "The rules for Sudoku need to be set as constraints to solve this problem.\n",
    "Given that Sudoku is a 9x9 grid, the rules of the game are mentioned here:\n",
    "* Constraint 1: Each cell should be filled with a single value between 1 and 9\n",
    "\\begin{equation*}\n",
    "\\sum_{v=1}^9 X_{vrc}=1 \\quad\\text{for r,c} \\in [1,9]\n",
    "\\end{equation*}\n",
    "* Constraint 2: Each row should contain every number from 1 to 9 once\n",
    "\\begin{equation*}\n",
    "\\sum_{r=1}^9 X_{vrc}=1 \\quad\\text{for v,c} \\in [1,9]\n",
    "\\end{equation*}\n",
    "* Constraint 3: Each column should contain every number from 1 to 9 once\n",
    "\\begin{equation*}\n",
    "\\sum_{c=1}^9 X_{vrc}=1 \\quad\\text{for v,r} \\in [1,9]\n",
    "\\end{equation*}  \n",
    "* Constraint 4: Each 3x3 grid, starting from top left, should contain every number from 1 to 9 once\n",
    "\\begin{equation*}\n",
    "\\sum_{r=3p-2}^{3p}\\sum_{c=3p-2}^{3q} X_{vrc}=1 \\quad\\text{for v} \\in [1,9]\\quad\\text{and p,q} \\in [1,3]\n",
    "\\end{equation*}"
   ]
  },
  {
   "cell_type": "markdown",
   "id": "8bceb7eb",
   "metadata": {},
   "source": [
    "## Using Python and PULP"
   ]
  },
  {
   "cell_type": "markdown",
   "id": "4c5a308b",
   "metadata": {},
   "source": [
    "### install pulp"
   ]
  },
  {
   "cell_type": "code",
   "execution_count": null,
   "id": "da01b53f",
   "metadata": {},
   "outputs": [],
   "source": [
    "!pip install pulp"
   ]
  },
  {
   "cell_type": "code",
   "execution_count": null,
   "id": "c6553d9a",
   "metadata": {},
   "outputs": [],
   "source": [
    "import pulp as plp"
   ]
  },
  {
   "cell_type": "markdown",
   "id": "443b4bc4",
   "metadata": {},
   "source": [
    "### Add constraints"
   ]
  },
  {
   "cell_type": "code",
   "execution_count": 14,
   "id": "4561da1d",
   "metadata": {
    "ExecuteTime": {
     "end_time": "2021-08-06T05:54:15.843370Z",
     "start_time": "2021-08-06T05:54:15.836466Z"
    }
   },
   "outputs": [],
   "source": [
    "def add_default_sudoku_constraints(prob, grid_vars, rows, cols, grids, values):\n",
    "    \n",
    "    # Constraint to ensure only one value is filled for a cell\n",
    "    for row in rows:\n",
    "        for col in cols:\n",
    "                prob.addConstraint(plp.LpConstraint(e=plp.lpSum([grid_vars[row][col][value] for value in values]),\n",
    "                                        sense=plp.LpConstraintEQ, rhs=1, name=f\"constraint_sum_{row}_{col}\"))\n",
    "\n",
    "\n",
    "    # Constraint to ensure that values from 1 to 9 is filled only once in a row        \n",
    "    for row in rows:\n",
    "        for value in values:\n",
    "            prob.addConstraint(plp.LpConstraint(e=plp.lpSum([grid_vars[row][col][value]*value  for col in cols]),\n",
    "                                        sense=plp.LpConstraintEQ, rhs=value, name=f\"constraint_uniq_row_{row}_{value}\"))\n",
    "\n",
    "    # Constraint to ensure that values from 1 to 9 is filled only once in a column        \n",
    "    for col in cols:\n",
    "        for value in values:\n",
    "            prob.addConstraint(plp.LpConstraint(e=plp.lpSum([grid_vars[row][col][value]*value  for row in rows]),\n",
    "                                        sense=plp.LpConstraintEQ, rhs=value, name=f\"constraint_uniq_col_{col}_{value}\"))\n",
    "\n",
    "\n",
    "    # Constraint to ensure that values from 1 to 9 is filled only once in the 3x3 grid       \n",
    "    for grid in grids:\n",
    "        grid_row  = int(grid/3)\n",
    "        grid_col  = int(grid%3)\n",
    "\n",
    "        for value in values:\n",
    "            prob.addConstraint(plp.LpConstraint(e=plp.lpSum([grid_vars[grid_row*3+row][grid_col*3+col][value]*value  for col in range(0,3) for row in range(0,3)]),\n",
    "                                        sense=plp.LpConstraintEQ, rhs=value, name=f\"constraint_uniq_grid_{grid}_{value}\"))"
   ]
  },
  {
   "cell_type": "markdown",
   "id": "6f88d242",
   "metadata": {},
   "source": [
    "### Add the prefilled values as constraints"
   ]
  },
  {
   "cell_type": "markdown",
   "id": "0e9dab92",
   "metadata": {
    "ExecuteTime": {
     "end_time": "2021-08-06T05:45:40.313749Z",
     "start_time": "2021-08-06T05:45:40.310219Z"
    }
   },
   "source": [
    "Constraint 5: Fill the prefilled cells as constraints to the LP problem."
   ]
  },
  {
   "cell_type": "code",
   "execution_count": 16,
   "id": "966b650f",
   "metadata": {
    "ExecuteTime": {
     "end_time": "2021-08-06T05:54:17.004152Z",
     "start_time": "2021-08-06T05:54:17.000003Z"
    }
   },
   "outputs": [],
   "source": [
    "def add_prefilled_constraints(prob, input_sudoku, grid_vars, rows, cols, values):\n",
    "    for row in rows:\n",
    "        for col in cols:\n",
    "            if(input_sudoku[row][col] != 0):\n",
    "                prob.addConstraint(plp.LpConstraint(e=plp.lpSum([grid_vars[row][col][value]*value  for value in values]), \n",
    "                                                    sense=plp.LpConstraintEQ, \n",
    "                                                    rhs=input_sudoku[row][col],\n",
    "                                                    name=f\"constraint_prefilled_{row}_{col}\"))"
   ]
  },
  {
   "cell_type": "markdown",
   "id": "847e7998",
   "metadata": {},
   "source": [
    "### Extract solution from the target variable to a list array"
   ]
  },
  {
   "cell_type": "code",
   "execution_count": 17,
   "id": "4dccbcca",
   "metadata": {
    "ExecuteTime": {
     "end_time": "2021-08-06T05:54:17.547210Z",
     "start_time": "2021-08-06T05:54:17.543539Z"
    }
   },
   "outputs": [],
   "source": [
    "def extract_solution(grid_vars, rows, cols, values):\n",
    "    solution = [[0 for col in cols] for row in rows]\n",
    "    grid_list = []\n",
    "    for row in rows:\n",
    "        for col in cols:\n",
    "            for value in values:\n",
    "                if plp.value(grid_vars[row][col][value]):\n",
    "                    solution[row][col] = value \n",
    "    return solution"
   ]
  },
  {
   "cell_type": "markdown",
   "id": "96f612a5",
   "metadata": {},
   "source": [
    "### Print the solution as a Sudoku grid"
   ]
  },
  {
   "cell_type": "code",
   "execution_count": 18,
   "id": "1db5d41b",
   "metadata": {
    "ExecuteTime": {
     "end_time": "2021-08-06T05:54:17.920093Z",
     "start_time": "2021-08-06T05:54:17.916230Z"
    }
   },
   "outputs": [],
   "source": [
    "def print_solution(solution, rows,cols):\n",
    "    # Print the final result\n",
    "    print(f\"\\nFinal result:\")\n",
    "\n",
    "    print(\"\\n\\n+ ----------- + ----------- + ----------- +\",end=\"\")\n",
    "    for row in rows:\n",
    "        print(\"\\n\",end=\"\\n|  \")\n",
    "        for col in cols:\n",
    "            num_end = \"  |  \" if ((col+1)%3 == 0) else \"   \"\n",
    "            print(solution[row][col],end=num_end)\n",
    "\n",
    "        if ((row+1)%3 == 0):\n",
    "            print(\"\\n\\n+ ----------- + ----------- + ----------- +\",end=\"\")"
   ]
  },
  {
   "cell_type": "markdown",
   "id": "45760f73",
   "metadata": {},
   "source": [
    "### Sudoku Solver"
   ]
  },
  {
   "cell_type": "markdown",
   "id": "448a1339",
   "metadata": {},
   "source": [
    "Sudoku Solver: Find a solution where the constraints are satisfied.   \n",
    "Need to identify a feasible solution and not an optimal solution.\n",
    "\n",
    "Decision Variables: 9x9x9 --> Binary variables: (row,column, value)   \n",
    "Create a set of binary variables. 9 binary variables for each cell (row,col) - one for each value from 1 to 9.  \n",
    "For every cell, only one of the 9 binary variables for that (row,col) can be set (constraint)"
   ]
  },
  {
   "cell_type": "code",
   "execution_count": 19,
   "id": "8c1c7a48",
   "metadata": {
    "ExecuteTime": {
     "end_time": "2021-08-06T05:54:18.509291Z",
     "start_time": "2021-08-06T05:54:18.503752Z"
    }
   },
   "outputs": [],
   "source": [
    "def solve_sudoku(input_sudoku, diagonal = False ):\n",
    "    # Create the linear programming problem\n",
    "    prob = plp.LpProblem(\"Sudoku_Solver\")\n",
    "\n",
    "    rows = range(0,9)\n",
    "    cols = range(0,9)\n",
    "    grids = range(0,9)\n",
    "    values = range(1,10)\n",
    "\n",
    "    # Decision Variable/Target variable\n",
    "    grid_vars = plp.LpVariable.dicts(\"grid_value\", (rows,cols,values), cat='Binary') \n",
    "\n",
    "    # Set the objective function\n",
    "    # Sudoku works only on the constraints - feasibility problem \n",
    "    # There is no objective function that we are trying maximize or minimize.\n",
    "    # Set a dummy objective\n",
    "    objective = plp.lpSum(0)\n",
    "    prob.setObjective(objective)\n",
    "\n",
    "    # Create the default constraints to solve sudoku\n",
    "    add_default_sudoku_constraints(prob, grid_vars, rows, cols, grids, values)\n",
    "\n",
    "    # Fill the prefilled values from input sudoku as constraints\n",
    "    add_prefilled_constraints(prob, input_sudoku, grid_vars, rows, cols, values)\n",
    "\n",
    "    # Solve the problem\n",
    "    prob.solve()\n",
    "\n",
    "    # Print the status of the solution\n",
    "    solution_status = plp.LpStatus[prob.status]\n",
    "    print(f'Solution Status = {plp.LpStatus[prob.status]}')\n",
    "\n",
    "    # Extract the solution if an optimal solution has been identified\n",
    "    if solution_status == 'Optimal':\n",
    "        solution = extract_solution(grid_vars, rows, cols, values)\n",
    "        print_solution(solution, rows,cols)\n"
   ]
  },
  {
   "cell_type": "markdown",
   "id": "c91348c4",
   "metadata": {},
   "source": [
    "## Run the Normal Sudoku"
   ]
  },
  {
   "cell_type": "code",
   "execution_count": null,
   "id": "f4aeebdc",
   "metadata": {
    "ExecuteTime": {
     "end_time": "2021-08-06T05:54:22.079800Z",
     "start_time": "2021-08-06T05:54:22.062867Z"
    }
   },
   "outputs": [],
   "source": [
    "normal_sudoku = [\n",
    "                    [3,0,0,8,0,0,0,0,1],\n",
    "                    [0,0,0,0,0,2,0,0,0],\n",
    "                    [0,4,1,5,0,0,8,3,0],\n",
    "                    [0,2,0,0,0,1,0,0,0],\n",
    "                    [8,5,0,4,0,3,0,1,7],\n",
    "    \n",
    "                    [0,0,0,7,0,0,0,2,0],\n",
    "                    [0,8,5,0,0,9,7,4,0],\n",
    "                    [0,0,0,1,0,0,0,0,0],\n",
    "                    [9,0,0,0,0,7,0,0,6]\n",
    "                ]\n",
    "\n",
    "\n",
    "solve_sudoku(input_sudoku=normal_sudoku, diagonal=False)\n",
    "\n"
   ]
  },
  {
   "cell_type": "markdown",
   "id": "b3936792",
   "metadata": {},
   "source": [
    "References:\n",
    "{cite}`pulp_2009`.\n",
    "{cite}`Allison_Morgan_2021`.\n",
    "{cite}`Lakshmi_Ajay_2021`.\n"
   ]
  }
 ],
 "metadata": {
  "kernelspec": {
   "display_name": "Python 3",
   "language": "python",
   "name": "python3"
  },
  "language_info": {
   "codemirror_mode": {
    "name": "ipython",
    "version": 3
   },
   "file_extension": ".py",
   "mimetype": "text/x-python",
   "name": "python",
   "nbconvert_exporter": "python",
   "pygments_lexer": "ipython3",
   "version": "3.8.6"
  },
  "toc": {
   "base_numbering": 1,
   "nav_menu": {},
   "number_sections": true,
   "sideBar": true,
   "skip_h1_title": false,
   "title_cell": "Table of Contents",
   "title_sidebar": "My Steps",
   "toc_cell": false,
   "toc_position": {},
   "toc_section_display": true,
   "toc_window_display": true
  },
  "varInspector": {
   "cols": {
    "lenName": 16,
    "lenType": 16,
    "lenVar": 40
   },
   "kernels_config": {
    "python": {
     "delete_cmd_postfix": "",
     "delete_cmd_prefix": "del ",
     "library": "var_list.py",
     "varRefreshCmd": "print(var_dic_list())"
    },
    "r": {
     "delete_cmd_postfix": ") ",
     "delete_cmd_prefix": "rm(",
     "library": "var_list.r",
     "varRefreshCmd": "cat(var_dic_list()) "
    }
   },
   "types_to_exclude": [
    "module",
    "function",
    "builtin_function_or_method",
    "instance",
    "_Feature"
   ],
   "window_display": false
  }
 },
 "nbformat": 4,
 "nbformat_minor": 5
}
