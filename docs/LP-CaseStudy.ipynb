{
 "cells": [
  {
   "cell_type": "markdown",
   "metadata": {},
   "source": [
    "# Linear Programming Case Study: Happy Pet Food\n",
    "\n",
    "### Problem statement\n",
    "\n",
    "The Happy Pet Food Company manufactures two types of dog food: Meaties and Yummies. Each batch of Meaties contains 20 pounds of cereal and 20 pounds of meat; each batch of Yummies contains 30 pounds of cereal and 10 pounds of meat. Happy can buy only up to 400,000 pounds of cereal and up to 200,000 pounds of meat per month. Happy can only make a maximum of 8000 batches of Meaties each month due to sales constraints. Happy makes a profit of `$`65 on Meaties and `$`45 on Yummies. How many batches of Meaties and Yummies should it produce to maximize profit?\n",
    "\n",
    "|          | Meaties X  | Yummies Y   | Resource constrains | \n",
    "| --------:| ---------- | ----------- | ------------------- | \n",
    "| Cereal   | 20         | 30          | 400,000             |\n",
    "| Meat     | 20         | 10          | 200,000             | \n",
    "| Sales    | 1          |             | 8,000               |\n",
    "| Profits  | 65         | 45          |                     |\n",
    "\n",
    "The **decision variables** are the number of batches of Meaties as X. The number of batches of Yummies is Y.\n",
    "\n",
    "### Objective function (maximize)\n",
    "\n",
    "$$Z = 65x1 + 45x2$$\n",
    "\n",
    "### Subject to contraints:\n",
    "\n",
    "$$20x + 30y \\leqslant 400,000$$\n",
    "$$20x + 10y \\leqslant 200,000$$\n",
    "$$x \\leqslant 8,000$$\n",
    "$$x \\geqslant 0$$\n",
    "$$y \\geqslant 0$$"
   ]
  },
  {
   "cell_type": "markdown",
   "metadata": {},
   "source": [
    "### Graphical solution"
   ]
  },
  {
   "cell_type": "code",
   "execution_count": null,
   "metadata": {},
   "outputs": [],
   "source": [
    "import numpy as np\n",
    "import matplotlib.pyplot as plt\n",
    "from scipy.optimize import linprog"
   ]
  },
  {
   "cell_type": "code",
   "execution_count": null,
   "metadata": {},
   "outputs": [],
   "source": [
    "x_i = np.linspace(0, 1000000, 1000000)\n",
    "# 20x + 30y <= 400000\n",
    "y_1 = (400000 - 20 * x_i) / 30\n",
    "# 20x + 10y <= 300000\n",
    "y_2 = (200000 - 20 * x_i) / 10\n",
    "y_3 = np.minimum(y_1, y_2)"
   ]
  },
  {
   "cell_type": "code",
   "execution_count": null,
   "metadata": {},
   "outputs": [],
   "source": [
    "plt.figure(figsize=(15, 8))\n",
    "\n",
    "plt.plot(x_i, y_1, color = 'red', label=r'$20x + 30y\\leq400000$')\n",
    "plt.plot(x_i, y_2, color = 'green', label=r'$20x + 10y\\leq200000$')\n",
    "plt.axvline(x = 8000, color = 'black', label=r'$x\\leq8000$')\n",
    "\n",
    "plt.grid(True)\n",
    "plt.xlim((0, 25000))\n",
    "plt.ylim((0, 40000))\n",
    "plt.xlabel('x')\n",
    "plt.ylabel('y')\n",
    "\n",
    "plt.legend(bbox_to_anchor=(1.15, 1), loc=2, borderaxespad=0.)\n",
    "plt.fill_between(x_i[:8000], y_3[:8000], color = 'blue', alpha = 0.30)\n",
    "plt.show()"
   ]
  },
  {
   "cell_type": "markdown",
   "metadata": {},
   "source": [
    "### Pick corner point of feasible area"
   ]
  },
  {
   "cell_type": "code",
   "execution_count": null,
   "metadata": {},
   "outputs": [],
   "source": [
    "opt_points = [(8000, 0), (8000, 4000), (5000, 10000), (0, 13333)]\n",
    "\n",
    "for x,y in opt_points:\n",
    "    print(f'At:{x, y}, Max(z)= {65*x + 45*y}')"
   ]
  },
  {
   "cell_type": "markdown",
   "metadata": {},
   "source": [
    "### Using SciPy\n",
    "\n",
    "In SciPy [linprog](https://docs.scipy.org/doc/scipy/reference/tutorial/optimize.html#linear-programming-example) only accepts a minimization problem if you're solving a maximizing problem then you've to re-write your equation so that maximize become minimize and greater than equal constraints become less than equal to constraint. It can done by multiplying the entire equation by -1."
   ]
  },
  {
   "cell_type": "markdown",
   "metadata": {},
   "source": [
    "### Create matrices to represent the objective function and the constraints"
   ]
  },
  {
   "cell_type": "code",
   "execution_count": null,
   "metadata": {},
   "outputs": [],
   "source": [
    "# -z = -65x - 45y\n",
    "objective = [-65, -45]\n",
    "\n",
    "lhs_inequality = [[20, 30],\n",
    "                  [20, 10]]\n",
    "\n",
    "rhs_inequality = [400000,\n",
    "                  200000]\n",
    "\n",
    "bounds = [(0, 8000.0),\n",
    "          (0, float('inf'))]"
   ]
  },
  {
   "cell_type": "markdown",
   "metadata": {},
   "source": [
    "### Using Simplex method `method='simplex',`\n",
    "\n",
    "https://docs.scipy.org/doc/scipy/reference/generated/scipy.optimize.linprog.html"
   ]
  },
  {
   "cell_type": "code",
   "execution_count": null,
   "metadata": {},
   "outputs": [],
   "source": [
    "optimal_solution = linprog(c = objective, \n",
    "                           A_ub = lhs_inequality, \n",
    "                           b_ub = rhs_inequality,\n",
    "                           bounds = bounds,\n",
    "                           method = 'simplex')\n",
    "\n",
    "optimal_solution"
   ]
  },
  {
   "cell_type": "code",
   "execution_count": null,
   "metadata": {},
   "outputs": [],
   "source": [
    "optimal_solution.x"
   ]
  },
  {
   "cell_type": "code",
   "execution_count": null,
   "metadata": {},
   "outputs": [],
   "source": [
    "optimal_solution.message"
   ]
  },
  {
   "cell_type": "code",
   "execution_count": null,
   "metadata": {},
   "outputs": [],
   "source": [
    "optimal_solution.fun"
   ]
  },
  {
   "cell_type": "markdown",
   "metadata": {},
   "source": [
    "## Using LpProblem function from PuLP library\n",
    "\n",
    "This paper introduces the PuLP library, an open source package that allows mathematical programs to be described in the Python computer programming language. PuLP is a high-level modelling library that leverages the power of the Python language and allows the user to create programs using expressions that are natural to the Python language, avoiding special syntax and keywords wherever possible."
   ]
  },
  {
   "cell_type": "code",
   "execution_count": null,
   "metadata": {},
   "outputs": [],
   "source": [
    "!pip install pulp"
   ]
  },
  {
   "cell_type": "code",
   "execution_count": null,
   "metadata": {},
   "outputs": [],
   "source": [
    "from pulp import LpMaximize, LpMinimize, LpProblem, LpStatus, lpSum, LpVariable"
   ]
  },
  {
   "cell_type": "code",
   "execution_count": null,
   "metadata": {},
   "outputs": [],
   "source": [
    "model = LpProblem(name = 'happy-pet-food', sense = LpMaximize)\n",
    "\n",
    "model"
   ]
  },
  {
   "cell_type": "markdown",
   "metadata": {},
   "source": [
    "### Set variable and bound"
   ]
  },
  {
   "cell_type": "code",
   "execution_count": null,
   "metadata": {},
   "outputs": [],
   "source": [
    "x = LpVariable(name='x', lowBound=0, upBound=8000)\n",
    "y = LpVariable(name='y', lowBound=0)"
   ]
  },
  {
   "cell_type": "markdown",
   "metadata": {},
   "source": [
    "### Set Constraints"
   ]
  },
  {
   "cell_type": "code",
   "execution_count": null,
   "metadata": {},
   "outputs": [],
   "source": [
    "model += (20*x + 30*y <= 400000, 'Cereal constraints')\n",
    "model += (20*x + 10*y <= 200000, 'Meat constraints')\n",
    "\n",
    "model"
   ]
  },
  {
   "cell_type": "markdown",
   "metadata": {},
   "source": [
    "### Set Objective function"
   ]
  },
  {
   "cell_type": "code",
   "execution_count": null,
   "metadata": {},
   "outputs": [],
   "source": [
    "model += (65*x + 45*y)\n",
    "\n",
    "model"
   ]
  },
  {
   "cell_type": "markdown",
   "metadata": {},
   "source": [
    "### Status of solution\n",
    "\n",
    "https://www.coin-or.org/PuLP/constants.html#pulp.constants.LpStatus\n",
    "\n",
    "- LpStatusOptimal\t“Optimal”\t1\n",
    "- LpStatusNotSolved\t“Not Solved”\t0\n",
    "- LpStatusInfeasible\t“Infeasible”\t-1\n",
    "- LpStatusUnbounded\t“Unbounded”\t-2\n",
    "- LpStatusUndefined\t“Undefined”\t-3"
   ]
  },
  {
   "cell_type": "code",
   "execution_count": null,
   "metadata": {},
   "outputs": [],
   "source": [
    "status = model.solve()\n",
    "\n",
    "status"
   ]
  },
  {
   "cell_type": "markdown",
   "metadata": {},
   "source": [
    "### Optimal value"
   ]
  },
  {
   "cell_type": "code",
   "execution_count": null,
   "metadata": {},
   "outputs": [],
   "source": [
    "model.objective.value()"
   ]
  },
  {
   "cell_type": "markdown",
   "metadata": {},
   "source": [
    "### Coordinates of optimal value"
   ]
  },
  {
   "cell_type": "code",
   "execution_count": null,
   "metadata": {},
   "outputs": [],
   "source": [
    "for var in model.variables():\n",
    "    print(f'{var.name} : {var.value()}')"
   ]
  }
 ],
 "metadata": {
  "kernelspec": {
   "display_name": "Python 3",
   "language": "python",
   "name": "python3"
  },
  "language_info": {
   "codemirror_mode": {
    "name": "ipython",
    "version": 3
   },
   "file_extension": ".py",
   "mimetype": "text/x-python",
   "name": "python",
   "nbconvert_exporter": "python",
   "pygments_lexer": "ipython3",
   "version": "3.11.3"
  },
  "widgets": {
   "application/vnd.jupyter.widget-state+json": {
    "state": {},
    "version_major": 2,
    "version_minor": 0
   }
  }
 },
 "nbformat": 4,
 "nbformat_minor": 4
}
